{
 "cells": [
  {
   "cell_type": "code",
   "execution_count": 10,
   "id": "c5a18d89",
   "metadata": {},
   "outputs": [],
   "source": [
    "#importing necessary libraries\n",
    "\n",
    "import pandas as pd\n",
    "import numpy as np \n",
    "import tensorflow as tf \n",
    "import keras \n",
    "from keras.models import Sequential\n",
    "from keras.layers import Conv2D, MaxPooling2D, AveragePooling2D, Dense, Activation, Dropout, Flatten, BatchNormalization\n",
    "from keras.preprocessing import image\n",
    "from keras.metrics import categorical_accuracy\n",
    "from keras.models import model_from_json\n",
    "from keras.callbacks import ModelCheckpoint\n",
    "from keras.optimizers import *\n",
    "from tensorflow.keras.preprocessing.image import ImageDataGenerator\n",
    "import matplotlib.pyplot as plt\n",
    "from keras import backend as K\n",
    "from tensorflow.keras.optimizers import RMSprop\n",
    "from keras.preprocessing.image import ImageDataGenerator\n",
    "from keras.callbacks import ReduceLROnPlateau\n",
    "from sklearn.model_selection import train_test_split\n",
    "from keras.utils.np_utils import to_categorical"
   ]
  },
  {
   "cell_type": "code",
   "execution_count": 2,
   "id": "cc284042",
   "metadata": {},
   "outputs": [],
   "source": [
    "#intializing variables to store our data\n",
    "\n",
    "data = []\n",
    "labels = []\n",
    "classes = 43\n",
    "cur_path = os.getcwd()"
   ]
  },
  {
   "cell_type": "code",
   "execution_count": 3,
   "id": "909dbc1f",
   "metadata": {},
   "outputs": [],
   "source": [
    "#generating labels and their images\n",
    "\n",
    "for i in range(classes):\n",
    "    path = os.path.join(cur_path, 'train', str(i))\n",
    "    images = os.listdir(path)\n",
    "    \n",
    "    for a in images:\n",
    "        try:\n",
    "            image = Image.open(path+'\\\\'+a)\n",
    "            image = image.resize((30,30))\n",
    "            image = np.array(image)\n",
    "            data.append(image)\n",
    "            labels.append(i)\n",
    "        except:\n",
    "             print(\"Error loading images\")\n",
    "                \n",
    "data = np.array(data)\n",
    "labels = np.array(labels)"
   ]
  },
  {
   "cell_type": "code",
   "execution_count": 6,
   "id": "134429e3",
   "metadata": {},
   "outputs": [
    {
     "name": "stdout",
     "output_type": "stream",
     "text": [
      "Image data Shape  (39209, 30, 30, 3) \n",
      "Labels data Shape (39209,)\n"
     ]
    }
   ],
   "source": [
    "print(\"Image data Shape \", data.shape,\"\\nLabels data Shape\", labels.shape)"
   ]
  },
  {
   "cell_type": "code",
   "execution_count": 8,
   "id": "bdbe7d07",
   "metadata": {},
   "outputs": [],
   "source": [
    "#Splitting into training and test sets\n",
    "X_train, X_test, y_train, y_test = train_test_split(data, labels, test_size=0.2, random_state=42)\n",
    "\n",
    "#Converting the labels into one hot encoding\n",
    "y_train = to_categorical(y_train, 43)\n",
    "y_test = to_categorical(y_test, 43)"
   ]
  },
  {
   "cell_type": "code",
   "execution_count": 11,
   "id": "9243122a",
   "metadata": {},
   "outputs": [],
   "source": [
    "#Declaring optimizers and learning rates for our models\n",
    "from tensorflow.keras.optimizers import Adam\n",
    "\n",
    "\n",
    "optimizer = Adam(learning_rate=0.0001, epsilon=1e-08, decay=0.0)\n",
    "\n",
    "\n",
    "learning_rate_reduction = ReduceLROnPlateau(monitor='val_accuracy', \n",
    "                                            patience=3, \n",
    "                                            verbose=1, \n",
    "                                            factor=0.5, \n",
    "                                            min_lr=0.000001)"
   ]
  },
  {
   "cell_type": "code",
   "execution_count": 12,
   "id": "f8c006f2",
   "metadata": {},
   "outputs": [],
   "source": [
    "datagen = ImageDataGenerator(\n",
    "        featurewise_center=False,  # set input mean to 0 over the dataset\n",
    "        samplewise_center=False,  # set each sample mean to 0\n",
    "        featurewise_std_normalization=False,  # divide inputs by std of the dataset\n",
    "        samplewise_std_normalization=False,  # divide each input by its std\n",
    "        zca_whitening=False,  # apply ZCA whitening\n",
    "        rotation_range=10,  # randomly rotate images in the range (degrees, 0 to 180)\n",
    "        zoom_range = 0.1, # Randomly zoom image \n",
    "        width_shift_range=0.1,  # randomly shift images horizontally (fraction of total width)\n",
    "        height_shift_range=0.1,  # randomly shift images vertically (fraction of total height)\n",
    "        horizontal_flip=False,  # randomly flip images\n",
    "        vertical_flip=False)  # randomly flip images\n",
    "\n",
    "\n",
    "datagen.fit(X_train)"
   ]
  },
  {
   "cell_type": "code",
   "execution_count": 17,
   "id": "4b809101",
   "metadata": {},
   "outputs": [
    {
     "name": "stdout",
     "output_type": "stream",
     "text": [
      "Model: \"sequential_3\"\n",
      "_________________________________________________________________\n",
      "Layer (type)                 Output Shape              Param #   \n",
      "=================================================================\n",
      "conv2d_12 (Conv2D)           (None, 26, 26, 32)        2432      \n",
      "_________________________________________________________________\n",
      "conv2d_13 (Conv2D)           (None, 22, 22, 32)        25632     \n",
      "_________________________________________________________________\n",
      "max_pooling2d_8 (MaxPooling2 (None, 11, 11, 32)        0         \n",
      "_________________________________________________________________\n",
      "dropout_12 (Dropout)         (None, 11, 11, 32)        0         \n",
      "_________________________________________________________________\n",
      "conv2d_14 (Conv2D)           (None, 9, 9, 64)          18496     \n",
      "_________________________________________________________________\n",
      "conv2d_15 (Conv2D)           (None, 7, 7, 64)          36928     \n",
      "_________________________________________________________________\n",
      "max_pooling2d_9 (MaxPooling2 (None, 3, 3, 64)          0         \n",
      "_________________________________________________________________\n",
      "dropout_13 (Dropout)         (None, 3, 3, 64)          0         \n",
      "_________________________________________________________________\n",
      "flatten_2 (Flatten)          (None, 576)               0         \n",
      "_________________________________________________________________\n",
      "dense_6 (Dense)              (None, 256)               147712    \n",
      "_________________________________________________________________\n",
      "dropout_14 (Dropout)         (None, 256)               0         \n",
      "_________________________________________________________________\n",
      "dense_7 (Dense)              (None, 43)                11051     \n",
      "=================================================================\n",
      "Total params: 242,251\n",
      "Trainable params: 242,251\n",
      "Non-trainable params: 0\n",
      "_________________________________________________________________\n"
     ]
    }
   ],
   "source": [
    "def cust2() : \n",
    "    model = Sequential()\n",
    "    model.add(Conv2D(filters=32, kernel_size=(5,5), activation='relu', input_shape=X_train.shape[1:]))\n",
    "    model.add(Conv2D(filters=32, kernel_size=(5,5), activation='relu'))\n",
    "    model.add(MaxPooling2D(pool_size=(2, 2)))\n",
    "    model.add(Dropout(rate=0.25))\n",
    "    model.add(Conv2D(filters=64, kernel_size=(3, 3), activation='relu'))\n",
    "    model.add(Conv2D(filters=64, kernel_size=(3, 3), activation='relu'))\n",
    "    model.add(MaxPooling2D(pool_size=(2, 2)))\n",
    "    model.add(Dropout(rate=0.25))\n",
    "    model.add(Flatten())\n",
    "    model.add(Dense(256, activation='relu'))\n",
    "    model.add(Dropout(rate=0.5))\n",
    "    model.add(Dense(43, activation='softmax'))\n",
    "    #Compilation of the model\n",
    "    model.compile(loss='categorical_crossentropy', optimizer=optimizer, metrics=['accuracy'])\n",
    "    \n",
    "    return model\n",
    "\n",
    "cust2_model = cust2()\n",
    "cust2_model.summary()"
   ]
  },
  {
   "cell_type": "code",
   "execution_count": 18,
   "id": "8b23fb5b",
   "metadata": {},
   "outputs": [
    {
     "name": "stdout",
     "output_type": "stream",
     "text": [
      "Epoch 1/25\n",
      "490/490 - 46s - loss: 4.8431 - accuracy: 0.0716 - val_loss: 3.1657 - val_accuracy: 0.2362\n",
      "Epoch 2/25\n",
      "490/490 - 31s - loss: 3.1448 - accuracy: 0.1999 - val_loss: 2.5421 - val_accuracy: 0.4155\n",
      "Epoch 3/25\n",
      "490/490 - 25s - loss: 2.6775 - accuracy: 0.2931 - val_loss: 1.8944 - val_accuracy: 0.5170\n",
      "Epoch 4/25\n",
      "490/490 - 29s - loss: 2.3006 - accuracy: 0.3709 - val_loss: 1.5432 - val_accuracy: 0.6095\n",
      "Epoch 5/25\n",
      "490/490 - 28s - loss: 2.0139 - accuracy: 0.4341 - val_loss: 1.2634 - val_accuracy: 0.6873\n",
      "Epoch 6/25\n",
      "490/490 - 29s - loss: 1.7751 - accuracy: 0.4947 - val_loss: 1.0342 - val_accuracy: 0.7341\n",
      "Epoch 7/25\n",
      "490/490 - 28s - loss: 1.5608 - accuracy: 0.5473 - val_loss: 0.8994 - val_accuracy: 0.7886\n",
      "Epoch 8/25\n",
      "490/490 - 27s - loss: 1.3536 - accuracy: 0.6044 - val_loss: 0.6055 - val_accuracy: 0.8495\n",
      "Epoch 9/25\n",
      "490/490 - 29s - loss: 1.1490 - accuracy: 0.6613 - val_loss: 0.4382 - val_accuracy: 0.8900\n",
      "Epoch 10/25\n",
      "490/490 - 35s - loss: 0.9801 - accuracy: 0.7143 - val_loss: 0.3408 - val_accuracy: 0.9268\n",
      "Epoch 11/25\n",
      "490/490 - 30s - loss: 0.8500 - accuracy: 0.7544 - val_loss: 0.2855 - val_accuracy: 0.9406\n",
      "Epoch 12/25\n",
      "490/490 - 27s - loss: 0.7507 - accuracy: 0.7803 - val_loss: 0.2106 - val_accuracy: 0.9521\n",
      "Epoch 13/25\n",
      "490/490 - 30s - loss: 0.6570 - accuracy: 0.8078 - val_loss: 0.1955 - val_accuracy: 0.9579\n",
      "Epoch 14/25\n",
      "490/490 - 35s - loss: 0.5920 - accuracy: 0.8292 - val_loss: 0.1549 - val_accuracy: 0.9677\n",
      "Epoch 15/25\n",
      "490/490 - 28s - loss: 0.5337 - accuracy: 0.8443 - val_loss: 0.1566 - val_accuracy: 0.9653\n",
      "Epoch 16/25\n",
      "490/490 - 29s - loss: 0.4736 - accuracy: 0.8607 - val_loss: 0.1025 - val_accuracy: 0.9778\n",
      "Epoch 17/25\n",
      "490/490 - 33s - loss: 0.4334 - accuracy: 0.8763 - val_loss: 0.0924 - val_accuracy: 0.9802\n",
      "Epoch 18/25\n",
      "490/490 - 29s - loss: 0.4035 - accuracy: 0.8813 - val_loss: 0.0698 - val_accuracy: 0.9855\n",
      "Epoch 19/25\n",
      "490/490 - 28s - loss: 0.3640 - accuracy: 0.8931 - val_loss: 0.0624 - val_accuracy: 0.9850\n",
      "Epoch 20/25\n",
      "490/490 - 28s - loss: 0.3326 - accuracy: 0.9025 - val_loss: 0.0591 - val_accuracy: 0.9853\n",
      "Epoch 21/25\n",
      "490/490 - 27s - loss: 0.3084 - accuracy: 0.9092 - val_loss: 0.0513 - val_accuracy: 0.9889\n",
      "Epoch 22/25\n",
      "490/490 - 33s - loss: 0.2757 - accuracy: 0.9180 - val_loss: 0.0411 - val_accuracy: 0.9912\n",
      "Epoch 23/25\n",
      "490/490 - 31s - loss: 0.2592 - accuracy: 0.9231 - val_loss: 0.0497 - val_accuracy: 0.9862\n",
      "Epoch 24/25\n",
      "490/490 - 34s - loss: 0.2412 - accuracy: 0.9288 - val_loss: 0.0399 - val_accuracy: 0.9890\n",
      "Epoch 25/25\n",
      "490/490 - 39s - loss: 0.2244 - accuracy: 0.9334 - val_loss: 0.0364 - val_accuracy: 0.9909\n",
      "\n",
      "Epoch 00025: ReduceLROnPlateau reducing learning rate to 4.999999873689376e-05.\n"
     ]
    }
   ],
   "source": [
    "cust_history = cust2_model.fit(datagen.flow(X_train,y_train, batch_size=64),\n",
    "                              epochs = 25, validation_data = (X_test,y_test),\n",
    "                              verbose = 2, steps_per_epoch=X_train.shape[0] // 64,\n",
    "                              callbacks=[learning_rate_reduction])"
   ]
  },
  {
   "cell_type": "code",
   "execution_count": 21,
   "id": "8ffabed0",
   "metadata": {},
   "outputs": [
    {
     "data": {
      "image/png": "[encoded data removed]",
      "text/plain": [
       "<Figure size 432x288 with 1 Axes>"
      ]
     },
     "metadata": {
      "needs_background": "light"
     },
     "output_type": "display_data"
    },
    {
     "data": {
      "image/png": "[encoded data removed]",
      "text/plain": [
       "<Figure size 432x288 with 1 Axes>"
      ]
     },
     "metadata": {
      "needs_background": "light"
     },
     "output_type": "display_data"
    }
   ],
   "source": [
    "#plotting graphs for accuracy \n",
    "plt.figure(0)\n",
    "plt.plot(cust_history.history['accuracy'], label='training accuracy')\n",
    "plt.plot(cust_history.history['val_accuracy'], label='val accuracy')\n",
    "plt.title('Accuracy')\n",
    "plt.xlabel('epochs')\n",
    "plt.ylabel('accuracy')\n",
    "plt.legend()\n",
    "plt.show()\n",
    "plt.figure(1)\n",
    "plt.plot(cust_history.history['loss'], label='training loss')\n",
    "plt.plot(cust_history.history['val_loss'], label='val loss')\n",
    "plt.title('Loss')\n",
    "plt.xlabel('epochs')\n",
    "plt.ylabel('loss')\n",
    "plt.legend()\n",
    "plt.show()"
   ]
  },
  {
   "cell_type": "code",
   "execution_count": 23,
   "id": "f3769f6d",
   "metadata": {},
   "outputs": [],
   "source": [
    "cust2_model.save(\"trafficclassifier.h5\")"
   ]
  }
 ],
 "metadata": {
  "kernelspec": {
   "display_name": "Python 3",
   "language": "python",
   "name": "python3"
  },
  "language_info": {
   "codemirror_mode": {
    "name": "ipython",
    "version": 3
   },
   "file_extension": ".py",
   "mimetype": "text/x-python",
   "name": "python",
   "nbconvert_exporter": "python",
   "pygments_lexer": "ipython3",
   "version": "3.8.8"
  }
 },
 "nbformat": 4,
 "nbformat_minor": 5
}
